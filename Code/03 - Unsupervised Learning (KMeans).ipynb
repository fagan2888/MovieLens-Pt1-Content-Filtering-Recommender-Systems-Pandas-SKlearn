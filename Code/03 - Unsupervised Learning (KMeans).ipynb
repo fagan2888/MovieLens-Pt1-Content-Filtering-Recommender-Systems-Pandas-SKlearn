{
 "cells": [
  {
   "cell_type": "markdown",
   "metadata": {},
   "source": [
    "- # Import Useful Packages\n",
    "- # Bring in key features / labels\n",
    "- # Determine features\n",
    "- # Create dictionary to hold model results"
   ]
  },
  {
   "cell_type": "markdown",
   "metadata": {},
   "source": [
    "## Import Useful Packages"
   ]
  },
  {
   "cell_type": "code",
   "execution_count": 1,
   "metadata": {
    "collapsed": true
   },
   "outputs": [],
   "source": [
    "import pandas as pd\n",
    "import numpy as np\n",
    "import pickle\n",
    "import sys"
   ]
  },
  {
   "cell_type": "markdown",
   "metadata": {},
   "source": [
    "## Bring in key features / labels"
   ]
  },
  {
   "cell_type": "code",
   "execution_count": 2,
   "metadata": {
    "collapsed": false
   },
   "outputs": [],
   "source": [
    "##########################################################################################\n",
    "#################### Pulling in the Lookup Table for Movies #############################\n",
    "##########################################################################################\n",
    "lookup_table_movies = pd.read_pickle('lookup_table_movies.pickle')\n",
    "\n",
    "##########################################################################################\n",
    "#################### Pulling in the User Ratings #########################################\n",
    "##########################################################################################\n",
    "\n",
    "# <<<<<<<Note pulling this in b/c it seems to make things too big... KMEANS doesn't end>>>>\n",
    "\n",
    "\n",
    "#user_ratings = pd.read_pickle('user_ratings.pickle')\n",
    "\n",
    "# This contains all the movieIDs for which we have already compiled metadata info available (i.e. from hetrec)\n",
    "#movies_with_metadata = lookup_table_movies[\"movieID\"].unique()  #10197 in length\n",
    "\n",
    "# This takes all the user ratings from the ml-latest download, and pairs it down to only those movies \n",
    "# for which we have metadata information.\n",
    "#user_ratings_for_movies_with_metadata = user_ratings[user_ratings[\"movieID\"].isin(movies_with_metadata)] # 10196 in length\n",
    "\n",
    "# This creates special lists that will be used to bias our training set towards users with a lot of ratings.\n",
    "#users_ordered_by_frequency = list(user_ratings_for_movies_with_metadata[[\"userID\",\"original_9\"]].groupby(\"userID\", as_index = False).count().sort('original_9', ascending=False)[\"userID\"])\n",
    "# These are the ID's of the 25000 most frequently rating users. \n",
    "#users_high_frequency_25000 = users_ordered_by_frequency[0:25000]  \n",
    "\n",
    "#user_ratings_high_frequency = user_ratings_for_movies_with_metadata[user_ratings_for_movies_with_metadata[\"userID\"].isin(users_w_most_ratings_25000)]\n",
    "# These are the ID's of the other are the less frequently rating users\n",
    "#users_low_frequency_remainder = users_ordered_by_frequency[25000:]\n",
    "#user_ratings_low_frequency = user_ratings_for_movies_with_metadata[user_ratings_for_movies_with_metadata[\"userID\"].isin(users_low_frequency_remainder)]\n",
    "\n",
    "##########################################################################################\n",
    "#################### Pulling in the Movie - X Feature Candidates #########################\n",
    "##########################################################################################\n",
    "imdb_and_rt_ratings_feature = pd.read_pickle('imdb_and_rt_ratings_feature.pickle') #<- ??Maybe I should consider dim. reducing these too?\n",
    "misc_movie_features = pd.read_pickle('misc_movie_features.pickle')\n",
    "\n",
    "#This is the full genre dummy feature... seems like perhaps I could test it whole since it's relatively small\n",
    "genre_feature_dummied = pd.read_pickle('genre_feature_dummied.pickle')\n",
    "\n",
    "#This is the svd shrunk features.\n",
    "directors_feature_dim_reduced = pd.read_pickle('directors_feature_dim_reduced.pickle')\n",
    "genre_feature_dim_reduced = pd.read_pickle('genre_feature_dim_reduced.pickle')\n",
    "tags_feature_dim_reduced= pd.read_pickle('tags_feature_dim_reduced.pickle')\n",
    "# actors_feature_dim_reduced = pd.read_pickle('actors_feature_dim_reduced.pickle')"
   ]
  },
  {
   "cell_type": "code",
   "execution_count": 46,
   "metadata": {
    "collapsed": false
   },
   "outputs": [
    {
     "data": {
      "text/html": [
       "<div>\n",
       "<table border=\"1\" class=\"dataframe\">\n",
       "  <thead>\n",
       "    <tr style=\"text-align: right;\">\n",
       "      <th></th>\n",
       "      <th>movieID</th>\n",
       "      <th>rtAllCriticsRating</th>\n",
       "      <th>rtAllCriticsNumReviews</th>\n",
       "      <th>rtAllCriticsNumFresh</th>\n",
       "      <th>rtAllCriticsNumRotten</th>\n",
       "      <th>rtAllCriticsScore</th>\n",
       "      <th>rtTopCriticsRating</th>\n",
       "      <th>rtTopCriticsNumReviews</th>\n",
       "      <th>rtTopCriticsNumFresh</th>\n",
       "      <th>rtTopCriticsNumRotten</th>\n",
       "      <th>rtTopCriticsScore</th>\n",
       "      <th>rtAudienceRating</th>\n",
       "      <th>rtAudienceNumRatings</th>\n",
       "      <th>rtAudienceScore</th>\n",
       "    </tr>\n",
       "  </thead>\n",
       "  <tbody>\n",
       "    <tr>\n",
       "      <th>0</th>\n",
       "      <td>1</td>\n",
       "      <td>9.0</td>\n",
       "      <td>73.0</td>\n",
       "      <td>73.0</td>\n",
       "      <td>0.0</td>\n",
       "      <td>100.0</td>\n",
       "      <td>8.5</td>\n",
       "      <td>17.0</td>\n",
       "      <td>17.0</td>\n",
       "      <td>0.0</td>\n",
       "      <td>100.0</td>\n",
       "      <td>3.7</td>\n",
       "      <td>102338.0</td>\n",
       "      <td>81.0</td>\n",
       "    </tr>\n",
       "    <tr>\n",
       "      <th>1</th>\n",
       "      <td>2</td>\n",
       "      <td>5.6</td>\n",
       "      <td>28.0</td>\n",
       "      <td>13.0</td>\n",
       "      <td>15.0</td>\n",
       "      <td>46.0</td>\n",
       "      <td>5.8</td>\n",
       "      <td>5.0</td>\n",
       "      <td>2.0</td>\n",
       "      <td>3.0</td>\n",
       "      <td>40.0</td>\n",
       "      <td>3.2</td>\n",
       "      <td>44587.0</td>\n",
       "      <td>61.0</td>\n",
       "    </tr>\n",
       "    <tr>\n",
       "      <th>2</th>\n",
       "      <td>3</td>\n",
       "      <td>5.9</td>\n",
       "      <td>36.0</td>\n",
       "      <td>24.0</td>\n",
       "      <td>12.0</td>\n",
       "      <td>66.0</td>\n",
       "      <td>7.0</td>\n",
       "      <td>6.0</td>\n",
       "      <td>5.0</td>\n",
       "      <td>1.0</td>\n",
       "      <td>83.0</td>\n",
       "      <td>3.2</td>\n",
       "      <td>10489.0</td>\n",
       "      <td>66.0</td>\n",
       "    </tr>\n",
       "    <tr>\n",
       "      <th>3</th>\n",
       "      <td>4</td>\n",
       "      <td>5.6</td>\n",
       "      <td>25.0</td>\n",
       "      <td>14.0</td>\n",
       "      <td>11.0</td>\n",
       "      <td>56.0</td>\n",
       "      <td>5.5</td>\n",
       "      <td>11.0</td>\n",
       "      <td>5.0</td>\n",
       "      <td>6.0</td>\n",
       "      <td>45.0</td>\n",
       "      <td>3.3</td>\n",
       "      <td>5666.0</td>\n",
       "      <td>79.0</td>\n",
       "    </tr>\n",
       "    <tr>\n",
       "      <th>4</th>\n",
       "      <td>5</td>\n",
       "      <td>5.3</td>\n",
       "      <td>19.0</td>\n",
       "      <td>9.0</td>\n",
       "      <td>10.0</td>\n",
       "      <td>47.0</td>\n",
       "      <td>5.4</td>\n",
       "      <td>5.0</td>\n",
       "      <td>1.0</td>\n",
       "      <td>4.0</td>\n",
       "      <td>20.0</td>\n",
       "      <td>3.0</td>\n",
       "      <td>13761.0</td>\n",
       "      <td>64.0</td>\n",
       "    </tr>\n",
       "  </tbody>\n",
       "</table>\n",
       "</div>"
      ],
      "text/plain": [
       "   movieID  rtAllCriticsRating  rtAllCriticsNumReviews  rtAllCriticsNumFresh  \\\n",
       "0        1                 9.0                    73.0                  73.0   \n",
       "1        2                 5.6                    28.0                  13.0   \n",
       "2        3                 5.9                    36.0                  24.0   \n",
       "3        4                 5.6                    25.0                  14.0   \n",
       "4        5                 5.3                    19.0                   9.0   \n",
       "\n",
       "   rtAllCriticsNumRotten  rtAllCriticsScore  rtTopCriticsRating  \\\n",
       "0                    0.0              100.0                 8.5   \n",
       "1                   15.0               46.0                 5.8   \n",
       "2                   12.0               66.0                 7.0   \n",
       "3                   11.0               56.0                 5.5   \n",
       "4                   10.0               47.0                 5.4   \n",
       "\n",
       "   rtTopCriticsNumReviews  rtTopCriticsNumFresh  rtTopCriticsNumRotten  \\\n",
       "0                    17.0                  17.0                    0.0   \n",
       "1                     5.0                   2.0                    3.0   \n",
       "2                     6.0                   5.0                    1.0   \n",
       "3                    11.0                   5.0                    6.0   \n",
       "4                     5.0                   1.0                    4.0   \n",
       "\n",
       "   rtTopCriticsScore  rtAudienceRating  rtAudienceNumRatings  rtAudienceScore  \n",
       "0              100.0               3.7              102338.0             81.0  \n",
       "1               40.0               3.2               44587.0             61.0  \n",
       "2               83.0               3.2               10489.0             66.0  \n",
       "3               45.0               3.3                5666.0             79.0  \n",
       "4               20.0               3.0               13761.0             64.0  "
      ]
     },
     "execution_count": 46,
     "metadata": {},
     "output_type": "execute_result"
    }
   ],
   "source": [
    "imdb_and_rt_ratings_feature.head()"
   ]
  },
  {
   "cell_type": "code",
   "execution_count": 47,
   "metadata": {
    "collapsed": true
   },
   "outputs": [],
   "source": [
    "imdb_and_rt_ratings_feature_reduced = imdb_and_rt_ratings_feature[[\"movieID\",\"rtAllCriticsScore\",\"rtAudienceScore\"]]"
   ]
  },
  {
   "cell_type": "code",
   "execution_count": 48,
   "metadata": {
    "collapsed": false
   },
   "outputs": [
    {
     "data": {
      "text/plain": [
       "(10197, 3)"
      ]
     },
     "execution_count": 48,
     "metadata": {},
     "output_type": "execute_result"
    }
   ],
   "source": [
    "imdb_and_rt_ratings_feature_reduced.shape"
   ]
  },
  {
   "cell_type": "markdown",
   "metadata": {},
   "source": [
    "## Create dictionary to hold model results"
   ]
  },
  {
   "cell_type": "markdown",
   "metadata": {},
   "source": [
    "## (1) Create your \"everything_matrix\"\n",
    "#### Bumps Memory usage from 2/3gb -> 11/12gb"
   ]
  },
  {
   "cell_type": "code",
   "execution_count": 49,
   "metadata": {
    "collapsed": false
   },
   "outputs": [
    {
     "name": "stdout",
     "output_type": "stream",
     "text": [
      "Merge 1 Complete\n",
      "(10197, 4)\n",
      "Merge 2 Complete\n",
      "(10155, 14)\n",
      "Merge 3 Complete\n",
      "(10155, 34)\n",
      "Merge 4 Complete\n",
      "(7131, 44)\n"
     ]
    }
   ],
   "source": [
    "# These steps may take a long time...\n",
    "\n",
    "All_data = pd.merge(imdb_and_rt_ratings_feature_reduced,misc_movie_features, on = \"movieID\")\n",
    "print \"Merge 1 Complete\"\n",
    "print All_data.shape\n",
    "All_data = pd.merge(All_data,directors_feature_dim_reduced, on = \"movieID\")\n",
    "print \"Merge 2 Complete\"\n",
    "print All_data.shape\n",
    "All_data = pd.merge(All_data,genre_feature_dummied, on = \"movieID\")\n",
    "print \"Merge 3 Complete\"\n",
    "print All_data.shape\n",
    "All_data = pd.merge(All_data,tags_feature_dim_reduced, on = \"movieID\")\n",
    "print \"Merge 4 Complete\"\n",
    "print All_data.shape\n",
    "#All_data = pd.merge(All_data,actors_feature_dim_reduced, on = \"movieID\")\n",
    "#print \"Merge 5 Complete\""
   ]
  },
  {
   "cell_type": "code",
   "execution_count": 8,
   "metadata": {
    "collapsed": false
   },
   "outputs": [
    {
     "data": {
      "text/plain": [
       "(7131, 55)"
      ]
     },
     "execution_count": 8,
     "metadata": {},
     "output_type": "execute_result"
    }
   ],
   "source": [
    "All_data.shape"
   ]
  },
  {
   "cell_type": "markdown",
   "metadata": {},
   "source": [
    "##### [Delete some old variables to free up cache memory] i.e. list of features etc..."
   ]
  },
  {
   "cell_type": "code",
   "execution_count": 4,
   "metadata": {
    "collapsed": false
   },
   "outputs": [
    {
     "name": "stdout",
     "output_type": "stream",
     "text": [
      "actors_feature_dim_reduced\n",
      "directors_feature_dim_reduced\n",
      "genre_feature_dim_reduced\n",
      "genre_feature_dummied\n",
      "imdb_and_rt_ratings_feature\n",
      "lookup_table_movies\n",
      "misc_movie_features\n",
      "tags_feature_dim_reduced\n",
      "Once deleted, variables cannot be recovered. Proceed (y/[n])? y\n",
      "Flushing output cache (0 entries)\n"
     ]
    }
   ],
   "source": [
    "# This step is not necessairy if i'm not merging above with user data...\n",
    "\n",
    "# #### Reduces Memory usage from 11/12gb -> 9.4gb\n",
    "# this = sys.modules[__name__]\n",
    "# list_of_vars_to_be_removed = [\"user_ratings\", \"movies_with_metadata\",\"user_ratings_for_movies_with_metadata\", \n",
    "#                               \"imdb_and_rt_ratings_feature\",\"misc_movie_features\",  \"genre_feature_dummied\",\n",
    "#                               \"directors_feature_dim_reduced\",  \"genre_feature_dim_reduced\",\"tags_feature_dim_reduced\",\n",
    "#                               \"actors_feature_dim_reduced\", \"lookup_table_movies\",\"user_ratings_totals\",\n",
    "#                               \"users_ordered_by_frequency\",\"users_w_most_ratings_25000\",\"user_ratings_totals_top75000\",\n",
    "#                               \"user_ratings_for_movies_with_metadata_ratings_count\",\"top25000\",\"y_train\",\n",
    "#                               \"Y_not_top25000\", \"user_ratings_user_ratings_for_movies_with_metadata_small\",\"X_train\"]\n",
    "\n",
    "# # [v for v in globals().keys() if not v.startswith('_')] # <-- Seems to be the same as that\n",
    "# #for i in vars().keys():  # <-- Seems to be the same as that\n",
    "# for i in dir():    \n",
    "#     if i[0] != \"_\":\n",
    "#         if i in list_of_vars_to_be_removed:\n",
    "#             print i\n",
    "#             delattr(this,str(i))\n",
    "\n",
    "# %reset out        "
   ]
  },
  {
   "cell_type": "code",
   "execution_count": 5,
   "metadata": {
    "collapsed": true
   },
   "outputs": [],
   "source": [
    "# Removing the extra y-ratings variables (besides original_9), \n",
    "# because they should essentially carry all the same information"
   ]
  },
  {
   "cell_type": "code",
   "execution_count": 6,
   "metadata": {
    "collapsed": false
   },
   "outputs": [],
   "source": [
    "# All_data.drop([\"binned_5\",\"binned_3\",\"binary\"], axis=1, inplace=True)"
   ]
  },
  {
   "cell_type": "code",
   "execution_count": 50,
   "metadata": {
    "collapsed": false
   },
   "outputs": [],
   "source": [
    "# Some minor data cleanup...dropping NA's \n",
    "All_data = All_data.dropna()    #Drops all rows with NA's"
   ]
  },
  {
   "cell_type": "markdown",
   "metadata": {},
   "source": [
    "# Run MNF to Reduce the Number of Features from 57 to 3 \n",
    "(s.t. we can visualize the clusters after doing kmenas)"
   ]
  },
  {
   "cell_type": "code",
   "execution_count": 10,
   "metadata": {
    "collapsed": false
   },
   "outputs": [
    {
     "data": {
      "text/plain": [
       "(7040, 55)"
      ]
     },
     "execution_count": 10,
     "metadata": {},
     "output_type": "execute_result"
    }
   ],
   "source": [
    "All_data.shape"
   ]
  },
  {
   "cell_type": "code",
   "execution_count": 80,
   "metadata": {
    "collapsed": true
   },
   "outputs": [],
   "source": [
    "from sklearn.decomposition import NMF"
   ]
  },
  {
   "cell_type": "code",
   "execution_count": 81,
   "metadata": {
    "collapsed": true
   },
   "outputs": [],
   "source": [
    "mnf_model = NMF(n_components = 3)"
   ]
  },
  {
   "cell_type": "markdown",
   "metadata": {},
   "source": [
    "# Here, this is the thing i'm waiting to finish!!!!"
   ]
  },
  {
   "cell_type": "code",
   "execution_count": 103,
   "metadata": {
    "collapsed": false
   },
   "outputs": [
    {
     "name": "stdout",
     "output_type": "stream",
     "text": [
      "(7034, 3)\n",
      "(3, 55)\n"
     ]
    }
   ],
   "source": [
    "All_data_postNMF = mnf_model.fit_transform(All_data)  # <--- the abbreviated 3 features <--- # This will be the distilled matrix we plug our recomendations\n",
    "All_data_postNMF_components = mnf_model.components_   # <--- the conversion matrix which should expand back to the full one\n",
    "# print All_data.shape.shape          # (20519630, 57)\n",
    "print All_data_postNMF.shape             # \n",
    "print All_data_postNMF_components.shape  # "
   ]
  },
  {
   "cell_type": "code",
   "execution_count": 29,
   "metadata": {
    "collapsed": false
   },
   "outputs": [
    {
     "name": "stdout",
     "output_type": "stream",
     "text": [
      "All_data\n",
      "Once deleted, variables cannot be recovered. Proceed (y/[n])? \n",
      "Nothing done.\n"
     ]
    }
   ],
   "source": [
    "# Not so necessairy if All_data doesn't include user data\n",
    "\n",
    "# # Remove All_data to save space...\n",
    "# this = sys.modules[__name__]\n",
    "# list_of_vars_to_be_removed = [\"All_data\"]\n",
    "\n",
    "# for i in dir():    \n",
    "#     if i[0] != \"_\":\n",
    "#         if i in list_of_vars_to_be_removed:\n",
    "#             print i\n",
    "#             delattr(this,str(i))\n",
    "\n",
    "# %reset out"
   ]
  },
  {
   "cell_type": "code",
   "execution_count": 13,
   "metadata": {
    "collapsed": false
   },
   "outputs": [],
   "source": [
    "# Pickle the ... b/c it takes far too long to run this thing...\n",
    "\n",
    "#All_data_postNMF = pd.to_pickle(\"All_data_postNMF.pickle\")\n",
    "#All_data_postNMF_components = pd.to_pickle(\"All_data_postNMF_components.pickle\")\n"
   ]
  },
  {
   "cell_type": "code",
   "execution_count": 14,
   "metadata": {
    "collapsed": true
   },
   "outputs": [],
   "source": [
    "# Loading from a pickle...\n",
    "# All_data_postNMF = pd.read_pickle('All_data_postNMF.pickle')"
   ]
  },
  {
   "cell_type": "code",
   "execution_count": 51,
   "metadata": {
    "collapsed": false
   },
   "outputs": [
    {
     "data": {
      "text/plain": [
       "Index([u'movieID', u'rtAllCriticsScore', u'rtAudienceScore', u'year',\n",
       "       u'director_nmf_vector_0', u'director_nmf_vector_1',\n",
       "       u'director_nmf_vector_2', u'director_nmf_vector_3',\n",
       "       u'director_nmf_vector_4', u'director_nmf_vector_5',\n",
       "       u'director_nmf_vector_6', u'director_nmf_vector_7',\n",
       "       u'director_nmf_vector_8', u'director_nmf_vector_9', u'genre_Action',\n",
       "       u'genre_Adventure', u'genre_Animation', u'genre_Children',\n",
       "       u'genre_Comedy', u'genre_Crime', u'genre_Documentary', u'genre_Drama',\n",
       "       u'genre_Fantasy', u'genre_Film-Noir', u'genre_Horror', u'genre_IMAX',\n",
       "       u'genre_Musical', u'genre_Mystery', u'genre_Romance', u'genre_Sci-Fi',\n",
       "       u'genre_Short', u'genre_Thriller', u'genre_War', u'genre_Western',\n",
       "       u'tags_nmf_vector_0', u'tags_nmf_vector_1', u'tags_nmf_vector_2',\n",
       "       u'tags_nmf_vector_3', u'tags_nmf_vector_4', u'tags_nmf_vector_5',\n",
       "       u'tags_nmf_vector_6', u'tags_nmf_vector_7', u'tags_nmf_vector_8',\n",
       "       u'tags_nmf_vector_9'],\n",
       "      dtype='object')"
      ]
     },
     "execution_count": 51,
     "metadata": {},
     "output_type": "execute_result"
    }
   ],
   "source": [
    "All_data.columns"
   ]
  },
  {
   "cell_type": "markdown",
   "metadata": {},
   "source": [
    "# Run KMeans on the reduced feature set\n"
   ]
  },
  {
   "cell_type": "code",
   "execution_count": 52,
   "metadata": {
    "collapsed": true
   },
   "outputs": [],
   "source": [
    "from sklearn.cluster import KMeans"
   ]
  },
  {
   "cell_type": "code",
   "execution_count": 53,
   "metadata": {
    "collapsed": true
   },
   "outputs": [],
   "source": [
    "def record_performance(num_of_clusters, kmeans_model_object):\n",
    "    centroids_matrix = kmeans_model_object.cluster_centers_\n",
    "    \n",
    "    # Calculate the Inertia / variance for the elbow method.\n",
    "    # The KMeans algorithm clusters data by trying to separate \n",
    "    # samples in n groups of equal variance, minimizing a criterion known as the inertia or within-cluster sum-of-squares. \n",
    "    inertia_value = kmeans_model_object.inertia_\n",
    "    \n",
    "    # Calculate the gap for the gap Method\n",
    "    # https://datasciencelab.wordpress.com/2013/12/27/finding-the-k-in-k-means-clustering/\n",
    "    # ?? tbd\n",
    "    \n",
    "    # Calculate the ... for the gaussian Method\n",
    "    # http://stackoverflow.com/questions/1793532/how-do-i-determine-k-when-using-k-means-clustering\n",
    "    # https://en.wikipedia.org/wiki/Determining_the_number_of_clusters_in_a_data_set\n",
    "    # http://stats.stackexchange.com/questions/23472/how-to-decide-on-the-correct-number-of-clusters\n",
    "    # ?? tbd\n",
    "    \n",
    "    performance_tuple = (centroids_matrix, inertia_value)\n",
    "    \n",
    "    dict_of_kmeans_cost_per_k[num_of_clusters] = performance_tuple\n",
    "    \n",
    "    return inertia_value"
   ]
  },
  {
   "cell_type": "code",
   "execution_count": 54,
   "metadata": {
    "collapsed": true
   },
   "outputs": [],
   "source": [
    "dict_of_kmeans_cost_per_k = {}\n",
    "# key = # number of clusters\n",
    "# value = (cost, location of centroids, ....)"
   ]
  },
  {
   "cell_type": "code",
   "execution_count": 55,
   "metadata": {
    "collapsed": false
   },
   "outputs": [
    {
     "name": "stdout",
     "output_type": "stream",
     "text": [
      "K Means Model w/  1  clusters created.\n",
      "K Means Model w/  1  clusters created, fit to data.\n",
      "K means Centroid & Inertia Saved to dict_of_kmeans_cost_per_k.\n",
      "Inertia List Updated\n",
      "K Means Model w/  2  clusters created.\n",
      "K Means Model w/  2  clusters created, fit to data.\n",
      "K means Centroid & Inertia Saved to dict_of_kmeans_cost_per_k.\n",
      "Inertia List Updated\n",
      "K Means Model w/  3  clusters created.\n",
      "K Means Model w/  3  clusters created, fit to data.\n",
      "K means Centroid & Inertia Saved to dict_of_kmeans_cost_per_k.\n",
      "Inertia List Updated\n",
      "K Means Model w/  4  clusters created.\n",
      "K Means Model w/  4  clusters created, fit to data.\n",
      "K means Centroid & Inertia Saved to dict_of_kmeans_cost_per_k.\n",
      "Inertia List Updated\n",
      "K Means Model w/  5  clusters created.\n",
      "K Means Model w/  5  clusters created, fit to data.\n",
      "K means Centroid & Inertia Saved to dict_of_kmeans_cost_per_k.\n",
      "Inertia List Updated\n",
      "K Means Model w/  6  clusters created.\n",
      "K Means Model w/  6  clusters created, fit to data.\n",
      "K means Centroid & Inertia Saved to dict_of_kmeans_cost_per_k.\n",
      "Inertia List Updated\n",
      "K Means Model w/  7  clusters created.\n",
      "K Means Model w/  7  clusters created, fit to data.\n",
      "K means Centroid & Inertia Saved to dict_of_kmeans_cost_per_k.\n",
      "Inertia List Updated\n",
      "K Means Model w/  8  clusters created.\n",
      "K Means Model w/  8  clusters created, fit to data.\n",
      "K means Centroid & Inertia Saved to dict_of_kmeans_cost_per_k.\n",
      "Inertia List Updated\n",
      "K Means Model w/  9  clusters created.\n",
      "K Means Model w/  9  clusters created, fit to data.\n",
      "K means Centroid & Inertia Saved to dict_of_kmeans_cost_per_k.\n",
      "Inertia List Updated\n",
      "K Means Model w/  10  clusters created.\n",
      "K Means Model w/  10  clusters created, fit to data.\n",
      "K means Centroid & Inertia Saved to dict_of_kmeans_cost_per_k.\n",
      "Inertia List Updated\n",
      "K Means Model w/  11  clusters created.\n",
      "K Means Model w/  11  clusters created, fit to data.\n",
      "K means Centroid & Inertia Saved to dict_of_kmeans_cost_per_k.\n",
      "Inertia List Updated\n",
      "K Means Model w/  12  clusters created.\n",
      "K Means Model w/  12  clusters created, fit to data.\n",
      "K means Centroid & Inertia Saved to dict_of_kmeans_cost_per_k.\n",
      "Inertia List Updated\n"
     ]
    }
   ],
   "source": [
    "# Create range of clusters to iterate across:\"\n",
    "cluster_range = range(1,13)\n",
    "inertia_list = []\n",
    "\n",
    "# Iterate across the range of of potential cluster range\n",
    "\n",
    "for k in cluster_range:\n",
    "    kmeans_model_object = KMeans(n_clusters = k)\n",
    "    print \"K Means Model w/ \", k,\" clusters created.\"\n",
    "    \n",
    "    #kmeans_model_object.fit(All_data_postNMF)\n",
    "    kmeans_model_object.fit(All_data)\n",
    "    \n",
    "    print \"K Means Model w/ \", k,\" clusters created, fit to data.\"\n",
    "    \n",
    "    inertia_value = record_performance(k, kmeans_model_object)\n",
    "    print \"K means Centroid & Inertia Saved to dict_of_kmeans_cost_per_k.\"\n",
    "    \n",
    "    inertia_list.append(inertia_value)\n",
    "    print \"Inertia List Updated\""
   ]
  },
  {
   "cell_type": "code",
   "execution_count": 56,
   "metadata": {
    "collapsed": false
   },
   "outputs": [
    {
     "data": {
      "text/plain": [
       "[2155146240700.5034,\n",
       " 281207012799.1701,\n",
       " 84301460713.800522,\n",
       " 55418592190.115074,\n",
       " 30180824044.587944,\n",
       " 22483525786.602959,\n",
       " 16573189723.225491,\n",
       " 11636027617.139688,\n",
       " 8823964522.6625519,\n",
       " 7141805957.3460255,\n",
       " 5813826539.182085,\n",
       " 4867920713.5751514]"
      ]
     },
     "execution_count": 56,
     "metadata": {},
     "output_type": "execute_result"
    }
   ],
   "source": [
    "inertia_list"
   ]
  },
  {
   "cell_type": "code",
   "execution_count": 57,
   "metadata": {
    "collapsed": true
   },
   "outputs": [],
   "source": [
    "import matplotlib.pyplot as plt\n",
    "%matplotlib inline"
   ]
  },
  {
   "cell_type": "code",
   "execution_count": 58,
   "metadata": {
    "collapsed": false
   },
   "outputs": [
    {
     "data": {
      "text/plain": [
       "[<matplotlib.lines.Line2D at 0x115f441d0>]"
      ]
     },
     "execution_count": 58,
     "metadata": {},
     "output_type": "execute_result"
    },
    {
     "data": {
      "image/png": "[encoded data removed]",
      "text/plain": [
       "<matplotlib.figure.Figure at 0x115ff7990>"
      ]
     },
     "metadata": {},
     "output_type": "display_data"
    }
   ],
   "source": [
    "plt.plot(range(1,13),inertia_list)"
   ]
  },
  {
   "cell_type": "code",
   "execution_count": 79,
   "metadata": {
    "collapsed": false
   },
   "outputs": [],
   "source": [
    "k_clusters = 150"
   ]
  },
  {
   "cell_type": "code",
   "execution_count": 81,
   "metadata": {
    "collapsed": false
   },
   "outputs": [
    {
     "name": "stdout",
     "output_type": "stream",
     "text": [
      "K Means Model w/  150  clusters created.\n"
     ]
    },
    {
     "data": {
      "text/plain": [
       "KMeans(copy_x=True, init='k-means++', max_iter=300, n_clusters=150, n_init=10,\n",
       "    n_jobs=1, precompute_distances='auto', random_state=None, tol=0.0001,\n",
       "    verbose=0)"
      ]
     },
     "execution_count": 81,
     "metadata": {},
     "output_type": "execute_result"
    }
   ],
   "source": [
    "kmeans_model_object = KMeans(n_clusters = k_clusters)\n",
    "print \"K Means Model w/ \", k_clusters,\" clusters created.\"\n",
    "    \n",
    "#kmeans_model_object.fit(All_data_postNMF)\n",
    "kmeans_model_object.fit(All_data)"
   ]
  },
  {
   "cell_type": "markdown",
   "metadata": {},
   "source": [
    "## Find out which cluster each of the data points belongs to."
   ]
  },
  {
   "cell_type": "code",
   "execution_count": 82,
   "metadata": {
    "collapsed": true
   },
   "outputs": [],
   "source": [
    "cluster_assignment = kmeans_model_object.predict(All_data)"
   ]
  },
  {
   "cell_type": "code",
   "execution_count": 83,
   "metadata": {
    "collapsed": false
   },
   "outputs": [
    {
     "data": {
      "text/plain": [
       "(array([  26.,  116.,   42.,   29.,   52.,   78.,   32.,   10.,   15.,\n",
       "           5.,   90.,   81.,   22.,   78.,   77.,   24.,   13.,    4.,\n",
       "          22.,  108.,   27.,   16.,   14.,   19.,   16.,   88.,   45.,\n",
       "          83.,   25.,  103.,   16.,   85.,   87.,    8.,   21.,   14.,\n",
       "          65.,   76.,   18.,   97.,   16.,   23.,   21.,   57.,   99.,\n",
       "          22.,   19.,   16.,   98.,   17.,    9.,   19.,   83.,   91.,\n",
       "          10.,   72.,   90.,   24.,   90.,   16.,   89.,   22.,   22.,\n",
       "          18.,   96.,   65.,   48.,   24.,   35.,   76.,   74.,   25.,\n",
       "          19.,   27.,  132.,   82.,   60.,   14.,   11.,  101.,   44.,\n",
       "          83.,   89.,   19.,   73.,   21.,  103.,   22.,   40.,   91.,\n",
       "          74.,   77.,   80.,   16.,   96.,   12.,   13.,    5.,   22.,\n",
       "          18.,   73.,   15.,   18.,   11.,   89.,   19.,   17.,   26.,\n",
       "          84.,   13.,   87.,   82.,   20.,   42.,   20.,   13.,   84.,\n",
       "          93.,   21.,   11.,   81.,    5.,   20.,   19.,   10.,   57.,\n",
       "           6.,   61.,   13.,   14.,  106.,   12.,  100.,   19.,   12.,\n",
       "          75.,   68.,   17.,   95.,   34.,   79.,   61.,   85.,   71.,\n",
       "          14.,   17.,   83.,   57.,   40.,   94.]),\n",
       " array([   0.        ,    0.99333333,    1.98666667,    2.98      ,\n",
       "           3.97333333,    4.96666667,    5.96      ,    6.95333333,\n",
       "           7.94666667,    8.94      ,    9.93333333,   10.92666667,\n",
       "          11.92      ,   12.91333333,   13.90666667,   14.9       ,\n",
       "          15.89333333,   16.88666667,   17.88      ,   18.87333333,\n",
       "          19.86666667,   20.86      ,   21.85333333,   22.84666667,\n",
       "          23.84      ,   24.83333333,   25.82666667,   26.82      ,\n",
       "          27.81333333,   28.80666667,   29.8       ,   30.79333333,\n",
       "          31.78666667,   32.78      ,   33.77333333,   34.76666667,\n",
       "          35.76      ,   36.75333333,   37.74666667,   38.74      ,\n",
       "          39.73333333,   40.72666667,   41.72      ,   42.71333333,\n",
       "          43.70666667,   44.7       ,   45.69333333,   46.68666667,\n",
       "          47.68      ,   48.67333333,   49.66666667,   50.66      ,\n",
       "          51.65333333,   52.64666667,   53.64      ,   54.63333333,\n",
       "          55.62666667,   56.62      ,   57.61333333,   58.60666667,\n",
       "          59.6       ,   60.59333333,   61.58666667,   62.58      ,\n",
       "          63.57333333,   64.56666667,   65.56      ,   66.55333333,\n",
       "          67.54666667,   68.54      ,   69.53333333,   70.52666667,\n",
       "          71.52      ,   72.51333333,   73.50666667,   74.5       ,\n",
       "          75.49333333,   76.48666667,   77.48      ,   78.47333333,\n",
       "          79.46666667,   80.46      ,   81.45333333,   82.44666667,\n",
       "          83.44      ,   84.43333333,   85.42666667,   86.42      ,\n",
       "          87.41333333,   88.40666667,   89.4       ,   90.39333333,\n",
       "          91.38666667,   92.38      ,   93.37333333,   94.36666667,\n",
       "          95.36      ,   96.35333333,   97.34666667,   98.34      ,\n",
       "          99.33333333,  100.32666667,  101.32      ,  102.31333333,\n",
       "         103.30666667,  104.3       ,  105.29333333,  106.28666667,\n",
       "         107.28      ,  108.27333333,  109.26666667,  110.26      ,\n",
       "         111.25333333,  112.24666667,  113.24      ,  114.23333333,\n",
       "         115.22666667,  116.22      ,  117.21333333,  118.20666667,\n",
       "         119.2       ,  120.19333333,  121.18666667,  122.18      ,\n",
       "         123.17333333,  124.16666667,  125.16      ,  126.15333333,\n",
       "         127.14666667,  128.14      ,  129.13333333,  130.12666667,\n",
       "         131.12      ,  132.11333333,  133.10666667,  134.1       ,\n",
       "         135.09333333,  136.08666667,  137.08      ,  138.07333333,\n",
       "         139.06666667,  140.06      ,  141.05333333,  142.04666667,\n",
       "         143.04      ,  144.03333333,  145.02666667,  146.02      ,\n",
       "         147.01333333,  148.00666667,  149.        ]),\n",
       " <a list of 150 Patch objects>)"
      ]
     },
     "execution_count": 83,
     "metadata": {},
     "output_type": "execute_result"
    },
    {
     "data": {
      "image/png": "[encoded data removed]",
      "text/plain": [
       "<matplotlib.figure.Figure at 0x116cba290>"
      ]
     },
     "metadata": {},
     "output_type": "display_data"
    }
   ],
   "source": [
    "import matplotlib.pyplot as plt\n",
    "%matplotlib inline\n",
    "plt.hist(cluster_assignment,bins=k_clusters)"
   ]
  },
  {
   "cell_type": "code",
   "execution_count": 84,
   "metadata": {
    "collapsed": false
   },
   "outputs": [],
   "source": [
    "distances_from_all_centroid = kmeans_model_object.transform(All_data)\n",
    "distance_from_closest_centroid_list = []\n",
    "\n",
    "for i in range(distances_from_all_centroid.shape[0]):\n",
    "    smallest_distance = distances_from_all_centroid[i].min() # Each row is a given observation, and it gives k (e.g. 30) distnaces from the point to each of the centroid centers\n",
    "    distance_from_closest_centroid_list.append(smallest_distance)"
   ]
  },
  {
   "cell_type": "markdown",
   "metadata": {},
   "source": [
    "## Create a table across all movies"
   ]
  },
  {
   "cell_type": "code",
   "execution_count": 85,
   "metadata": {
    "collapsed": true
   },
   "outputs": [],
   "source": [
    "movie_clusters_w_title = pd.DataFrame([All_data[\"movieID\"], cluster_assignment]).T\n",
    "movie_clusters_w_title = movie_clusters_w_title.rename(columns = {\"Unnamed 0\":\"Centroid#\"})\n",
    "movie_clusters_w_title = pd.merge(movie_clusters_w_title, lookup_table_movies, on=\"movieID\")"
   ]
  },
  {
   "cell_type": "code",
   "execution_count": 86,
   "metadata": {
    "collapsed": false
   },
   "outputs": [],
   "source": [
    "movie_clusters_w_title[\"Distance_to_Centroid\"] = distance_from_closest_centroid_list"
   ]
  },
  {
   "cell_type": "code",
   "execution_count": 94,
   "metadata": {
    "collapsed": false
   },
   "outputs": [
    {
     "name": "stderr",
     "output_type": "stream",
     "text": [
      "/anaconda/lib/python2.7/site-packages/ipykernel/__main__.py:2: FutureWarning: sort(columns=....) is deprecated, use sort_values(by=.....)\n",
      "  from ipykernel import kernelapp as app\n"
     ]
    },
    {
     "data": {
      "text/html": [
       "<div>\n",
       "<table border=\"1\" class=\"dataframe\">\n",
       "  <thead>\n",
       "    <tr style=\"text-align: right;\">\n",
       "      <th></th>\n",
       "      <th>movieID</th>\n",
       "      <th>Centroid#</th>\n",
       "      <th>title</th>\n",
       "      <th>imdbID</th>\n",
       "      <th>rtID</th>\n",
       "      <th>Distance_to_Centroid</th>\n",
       "    </tr>\n",
       "  </thead>\n",
       "  <tbody>\n",
       "    <tr>\n",
       "      <th>6859</th>\n",
       "      <td>59387.0</td>\n",
       "      <td>34.0</td>\n",
       "      <td>The Fall</td>\n",
       "      <td>460791</td>\n",
       "      <td>the-fall-2008</td>\n",
       "      <td>69.970565</td>\n",
       "    </tr>\n",
       "    <tr>\n",
       "      <th>6858</th>\n",
       "      <td>59369.0</td>\n",
       "      <td>34.0</td>\n",
       "      <td>Taken</td>\n",
       "      <td>936501</td>\n",
       "      <td>taken</td>\n",
       "      <td>76.052945</td>\n",
       "    </tr>\n",
       "    <tr>\n",
       "      <th>6871</th>\n",
       "      <td>59721.0</td>\n",
       "      <td>34.0</td>\n",
       "      <td>The Grand</td>\n",
       "      <td>427998</td>\n",
       "      <td>10009244-the_grand</td>\n",
       "      <td>80.002528</td>\n",
       "    </tr>\n",
       "    <tr>\n",
       "      <th>6857</th>\n",
       "      <td>59362.0</td>\n",
       "      <td>34.0</td>\n",
       "      <td>Anamorph</td>\n",
       "      <td>497323</td>\n",
       "      <td>anamorph</td>\n",
       "      <td>84.391926</td>\n",
       "    </tr>\n",
       "    <tr>\n",
       "      <th>6855</th>\n",
       "      <td>59333.0</td>\n",
       "      <td>34.0</td>\n",
       "      <td>Made of Honor</td>\n",
       "      <td>866439</td>\n",
       "      <td>made_of_honor</td>\n",
       "      <td>90.123522</td>\n",
       "    </tr>\n",
       "    <tr>\n",
       "      <th>6860</th>\n",
       "      <td>59421.0</td>\n",
       "      <td>34.0</td>\n",
       "      <td>What Happens in Vegas</td>\n",
       "      <td>1033643</td>\n",
       "      <td>10008760-what_happens_in_vegas</td>\n",
       "      <td>92.726837</td>\n",
       "    </tr>\n",
       "    <tr>\n",
       "      <th>6854</th>\n",
       "      <td>59313.0</td>\n",
       "      <td>34.0</td>\n",
       "      <td>Die weisse Massai</td>\n",
       "      <td>436889</td>\n",
       "      <td>die-weisse-massai-the-white-massai</td>\n",
       "      <td>93.722741</td>\n",
       "    </tr>\n",
       "    <tr>\n",
       "      <th>6852</th>\n",
       "      <td>59295.0</td>\n",
       "      <td>34.0</td>\n",
       "      <td>Expelled: No Intelligence Allowed</td>\n",
       "      <td>1091617</td>\n",
       "      <td>expelled_no_intelligence_allowed</td>\n",
       "      <td>95.346679</td>\n",
       "    </tr>\n",
       "    <tr>\n",
       "      <th>6856</th>\n",
       "      <td>59336.0</td>\n",
       "      <td>34.0</td>\n",
       "      <td>Redbelt</td>\n",
       "      <td>1012804</td>\n",
       "      <td>redbelt</td>\n",
       "      <td>100.731646</td>\n",
       "    </tr>\n",
       "    <tr>\n",
       "      <th>6861</th>\n",
       "      <td>59440.0</td>\n",
       "      <td>34.0</td>\n",
       "      <td>Bella</td>\n",
       "      <td>482463</td>\n",
       "      <td>bella</td>\n",
       "      <td>103.474705</td>\n",
       "    </tr>\n",
       "    <tr>\n",
       "      <th>6853</th>\n",
       "      <td>59306.0</td>\n",
       "      <td>34.0</td>\n",
       "      <td>Prom Night</td>\n",
       "      <td>926129</td>\n",
       "      <td>prom_night</td>\n",
       "      <td>112.477437</td>\n",
       "    </tr>\n",
       "    <tr>\n",
       "      <th>6870</th>\n",
       "      <td>59715.0</td>\n",
       "      <td>34.0</td>\n",
       "      <td>Shutter</td>\n",
       "      <td>440803</td>\n",
       "      <td>4bia-phobia</td>\n",
       "      <td>114.443231</td>\n",
       "    </tr>\n",
       "    <tr>\n",
       "      <th>6862</th>\n",
       "      <td>59478.0</td>\n",
       "      <td>34.0</td>\n",
       "      <td>Der unbekannte Soldat</td>\n",
       "      <td>844462</td>\n",
       "      <td>1185184-1185184-unknown_soldier</td>\n",
       "      <td>140.336992</td>\n",
       "    </tr>\n",
       "    <tr>\n",
       "      <th>6863</th>\n",
       "      <td>59501.0</td>\n",
       "      <td>34.0</td>\n",
       "      <td>The Chronicles of Narnia: Prince Caspian</td>\n",
       "      <td>499448</td>\n",
       "      <td>chronicles_of_narnia_prince_caspian</td>\n",
       "      <td>146.100068</td>\n",
       "    </tr>\n",
       "    <tr>\n",
       "      <th>6869</th>\n",
       "      <td>59615.0</td>\n",
       "      <td>34.0</td>\n",
       "      <td>Indiana Jones and the Kingdom of the Crystal S...</td>\n",
       "      <td>367882</td>\n",
       "      <td>indiana_jones_and_the_kingdom_of_the_crystal_s...</td>\n",
       "      <td>166.007032</td>\n",
       "    </tr>\n",
       "    <tr>\n",
       "      <th>6864</th>\n",
       "      <td>59519.0</td>\n",
       "      <td>34.0</td>\n",
       "      <td>Reprise</td>\n",
       "      <td>827517</td>\n",
       "      <td>1196293-reprise</td>\n",
       "      <td>172.885227</td>\n",
       "    </tr>\n",
       "    <tr>\n",
       "      <th>6868</th>\n",
       "      <td>59607.0</td>\n",
       "      <td>34.0</td>\n",
       "      <td>King Corn</td>\n",
       "      <td>1112115</td>\n",
       "      <td>10008698-king_corn</td>\n",
       "      <td>173.505070</td>\n",
       "    </tr>\n",
       "    <tr>\n",
       "      <th>6867</th>\n",
       "      <td>59604.0</td>\n",
       "      <td>34.0</td>\n",
       "      <td>The Girl Next Door</td>\n",
       "      <td>265208</td>\n",
       "      <td>1130343-girl_next_door</td>\n",
       "      <td>173.519560</td>\n",
       "    </tr>\n",
       "    <tr>\n",
       "      <th>6866</th>\n",
       "      <td>59594.0</td>\n",
       "      <td>34.0</td>\n",
       "      <td>War, Inc.</td>\n",
       "      <td>884224</td>\n",
       "      <td>war_inc</td>\n",
       "      <td>175.107702</td>\n",
       "    </tr>\n",
       "    <tr>\n",
       "      <th>6865</th>\n",
       "      <td>59590.0</td>\n",
       "      <td>34.0</td>\n",
       "      <td>Young @ Heart</td>\n",
       "      <td>1047007</td>\n",
       "      <td>youngheart</td>\n",
       "      <td>192.177299</td>\n",
       "    </tr>\n",
       "  </tbody>\n",
       "</table>\n",
       "</div>"
      ],
      "text/plain": [
       "      movieID  Centroid#                                              title  \\\n",
       "6859  59387.0       34.0                                           The Fall   \n",
       "6858  59369.0       34.0                                              Taken   \n",
       "6871  59721.0       34.0                                          The Grand   \n",
       "6857  59362.0       34.0                                           Anamorph   \n",
       "6855  59333.0       34.0                                      Made of Honor   \n",
       "6860  59421.0       34.0                              What Happens in Vegas   \n",
       "6854  59313.0       34.0                                  Die weisse Massai   \n",
       "6852  59295.0       34.0                  Expelled: No Intelligence Allowed   \n",
       "6856  59336.0       34.0                                            Redbelt   \n",
       "6861  59440.0       34.0                                              Bella   \n",
       "6853  59306.0       34.0                                         Prom Night   \n",
       "6870  59715.0       34.0                                            Shutter   \n",
       "6862  59478.0       34.0                              Der unbekannte Soldat   \n",
       "6863  59501.0       34.0           The Chronicles of Narnia: Prince Caspian   \n",
       "6869  59615.0       34.0  Indiana Jones and the Kingdom of the Crystal S...   \n",
       "6864  59519.0       34.0                                            Reprise   \n",
       "6868  59607.0       34.0                                          King Corn   \n",
       "6867  59604.0       34.0                                 The Girl Next Door   \n",
       "6866  59594.0       34.0                                          War, Inc.   \n",
       "6865  59590.0       34.0                                      Young @ Heart   \n",
       "\n",
       "       imdbID                                               rtID  \\\n",
       "6859   460791                                      the-fall-2008   \n",
       "6858   936501                                              taken   \n",
       "6871   427998                                 10009244-the_grand   \n",
       "6857   497323                                           anamorph   \n",
       "6855   866439                                      made_of_honor   \n",
       "6860  1033643                     10008760-what_happens_in_vegas   \n",
       "6854   436889                 die-weisse-massai-the-white-massai   \n",
       "6852  1091617                   expelled_no_intelligence_allowed   \n",
       "6856  1012804                                            redbelt   \n",
       "6861   482463                                              bella   \n",
       "6853   926129                                         prom_night   \n",
       "6870   440803                                        4bia-phobia   \n",
       "6862   844462                    1185184-1185184-unknown_soldier   \n",
       "6863   499448                chronicles_of_narnia_prince_caspian   \n",
       "6869   367882  indiana_jones_and_the_kingdom_of_the_crystal_s...   \n",
       "6864   827517                                    1196293-reprise   \n",
       "6868  1112115                                 10008698-king_corn   \n",
       "6867   265208                             1130343-girl_next_door   \n",
       "6866   884224                                            war_inc   \n",
       "6865  1047007                                         youngheart   \n",
       "\n",
       "      Distance_to_Centroid  \n",
       "6859             69.970565  \n",
       "6858             76.052945  \n",
       "6871             80.002528  \n",
       "6857             84.391926  \n",
       "6855             90.123522  \n",
       "6860             92.726837  \n",
       "6854             93.722741  \n",
       "6852             95.346679  \n",
       "6856            100.731646  \n",
       "6861            103.474705  \n",
       "6853            112.477437  \n",
       "6870            114.443231  \n",
       "6862            140.336992  \n",
       "6863            146.100068  \n",
       "6869            166.007032  \n",
       "6864            172.885227  \n",
       "6868            173.505070  \n",
       "6867            173.519560  \n",
       "6866            175.107702  \n",
       "6865            192.177299  "
      ]
     },
     "execution_count": 94,
     "metadata": {},
     "output_type": "execute_result"
    }
   ],
   "source": [
    "#? not sure if 4 is okay\n",
    "movie_clusters_w_title[movie_clusters_w_title[\"Centroid#\"] == 34].sort(columns = \"Distance_to_Centroid\").head(20)"
   ]
  },
  {
   "cell_type": "code",
   "execution_count": 44,
   "metadata": {
    "collapsed": true
   },
   "outputs": [],
   "source": [
    " pd.options.display.max_columns = 5000"
   ]
  },
  {
   "cell_type": "code",
   "execution_count": 45,
   "metadata": {
    "collapsed": false
   },
   "outputs": [
    {
     "data": {
      "text/html": [
       "<div>\n",
       "<table border=\"1\" class=\"dataframe\">\n",
       "  <thead>\n",
       "    <tr style=\"text-align: right;\">\n",
       "      <th></th>\n",
       "      <th>movieID</th>\n",
       "      <th>rtAllCriticsRating</th>\n",
       "      <th>rtAllCriticsNumReviews</th>\n",
       "      <th>rtAllCriticsNumFresh</th>\n",
       "      <th>rtAllCriticsNumRotten</th>\n",
       "      <th>rtAllCriticsScore</th>\n",
       "      <th>rtTopCriticsRating</th>\n",
       "      <th>rtTopCriticsNumReviews</th>\n",
       "      <th>rtTopCriticsNumFresh</th>\n",
       "      <th>rtTopCriticsNumRotten</th>\n",
       "      <th>rtTopCriticsScore</th>\n",
       "      <th>rtAudienceRating</th>\n",
       "      <th>rtAudienceNumRatings</th>\n",
       "      <th>rtAudienceScore</th>\n",
       "      <th>year</th>\n",
       "      <th>director_nmf_vector_0</th>\n",
       "      <th>director_nmf_vector_1</th>\n",
       "      <th>director_nmf_vector_2</th>\n",
       "      <th>director_nmf_vector_3</th>\n",
       "      <th>director_nmf_vector_4</th>\n",
       "      <th>director_nmf_vector_5</th>\n",
       "      <th>director_nmf_vector_6</th>\n",
       "      <th>director_nmf_vector_7</th>\n",
       "      <th>director_nmf_vector_8</th>\n",
       "      <th>director_nmf_vector_9</th>\n",
       "      <th>genre_Action</th>\n",
       "      <th>genre_Adventure</th>\n",
       "      <th>genre_Animation</th>\n",
       "      <th>genre_Children</th>\n",
       "      <th>genre_Comedy</th>\n",
       "      <th>genre_Crime</th>\n",
       "      <th>genre_Documentary</th>\n",
       "      <th>genre_Drama</th>\n",
       "      <th>genre_Fantasy</th>\n",
       "      <th>genre_Film-Noir</th>\n",
       "      <th>genre_Horror</th>\n",
       "      <th>genre_IMAX</th>\n",
       "      <th>genre_Musical</th>\n",
       "      <th>genre_Mystery</th>\n",
       "      <th>genre_Romance</th>\n",
       "      <th>genre_Sci-Fi</th>\n",
       "      <th>genre_Short</th>\n",
       "      <th>genre_Thriller</th>\n",
       "      <th>genre_War</th>\n",
       "      <th>genre_Western</th>\n",
       "      <th>tags_nmf_vector_0</th>\n",
       "      <th>tags_nmf_vector_1</th>\n",
       "      <th>tags_nmf_vector_2</th>\n",
       "      <th>tags_nmf_vector_3</th>\n",
       "      <th>tags_nmf_vector_4</th>\n",
       "      <th>tags_nmf_vector_5</th>\n",
       "      <th>tags_nmf_vector_6</th>\n",
       "      <th>tags_nmf_vector_7</th>\n",
       "      <th>tags_nmf_vector_8</th>\n",
       "      <th>tags_nmf_vector_9</th>\n",
       "    </tr>\n",
       "  </thead>\n",
       "  <tbody>\n",
       "    <tr>\n",
       "      <th>1762</th>\n",
       "      <td>2692</td>\n",
       "      <td>7.7</td>\n",
       "      <td>78.0</td>\n",
       "      <td>72.0</td>\n",
       "      <td>6.0</td>\n",
       "      <td>92.0</td>\n",
       "      <td>7.5</td>\n",
       "      <td>20.0</td>\n",
       "      <td>19.0</td>\n",
       "      <td>1.0</td>\n",
       "      <td>95.0</td>\n",
       "      <td>3.8</td>\n",
       "      <td>33702.0</td>\n",
       "      <td>88.0</td>\n",
       "      <td>1998</td>\n",
       "      <td>0.000010</td>\n",
       "      <td>0.00001</td>\n",
       "      <td>0.000010</td>\n",
       "      <td>28.134755</td>\n",
       "      <td>3.840950</td>\n",
       "      <td>0.00001</td>\n",
       "      <td>69.329070</td>\n",
       "      <td>0.000010</td>\n",
       "      <td>17.673165</td>\n",
       "      <td>44.574312</td>\n",
       "      <td>1.0</td>\n",
       "      <td>0.0</td>\n",
       "      <td>0.0</td>\n",
       "      <td>0.0</td>\n",
       "      <td>0.0</td>\n",
       "      <td>1.0</td>\n",
       "      <td>0.0</td>\n",
       "      <td>0.0</td>\n",
       "      <td>0.0</td>\n",
       "      <td>0.0</td>\n",
       "      <td>0.0</td>\n",
       "      <td>0.0</td>\n",
       "      <td>0.0</td>\n",
       "      <td>0.0</td>\n",
       "      <td>1.0</td>\n",
       "      <td>0.0</td>\n",
       "      <td>0.0</td>\n",
       "      <td>0.0</td>\n",
       "      <td>0.0</td>\n",
       "      <td>0.0</td>\n",
       "      <td>30.200149</td>\n",
       "      <td>25.427175</td>\n",
       "      <td>28.832238</td>\n",
       "      <td>28.203452</td>\n",
       "      <td>23.671873</td>\n",
       "      <td>31.820233</td>\n",
       "      <td>28.669453</td>\n",
       "      <td>26.421250</td>\n",
       "      <td>25.212758</td>\n",
       "      <td>24.860105</td>\n",
       "    </tr>\n",
       "    <tr>\n",
       "      <th>3805</th>\n",
       "      <td>5816</td>\n",
       "      <td>7.1</td>\n",
       "      <td>199.0</td>\n",
       "      <td>164.0</td>\n",
       "      <td>35.0</td>\n",
       "      <td>82.0</td>\n",
       "      <td>6.6</td>\n",
       "      <td>39.0</td>\n",
       "      <td>27.0</td>\n",
       "      <td>12.0</td>\n",
       "      <td>69.0</td>\n",
       "      <td>3.6</td>\n",
       "      <td>176055.0</td>\n",
       "      <td>80.0</td>\n",
       "      <td>2002</td>\n",
       "      <td>30.281519</td>\n",
       "      <td>0.00001</td>\n",
       "      <td>62.722349</td>\n",
       "      <td>50.177272</td>\n",
       "      <td>0.000013</td>\n",
       "      <td>0.00001</td>\n",
       "      <td>8.065088</td>\n",
       "      <td>36.329022</td>\n",
       "      <td>0.000010</td>\n",
       "      <td>0.000010</td>\n",
       "      <td>0.0</td>\n",
       "      <td>1.0</td>\n",
       "      <td>0.0</td>\n",
       "      <td>1.0</td>\n",
       "      <td>0.0</td>\n",
       "      <td>0.0</td>\n",
       "      <td>0.0</td>\n",
       "      <td>0.0</td>\n",
       "      <td>1.0</td>\n",
       "      <td>0.0</td>\n",
       "      <td>0.0</td>\n",
       "      <td>0.0</td>\n",
       "      <td>0.0</td>\n",
       "      <td>0.0</td>\n",
       "      <td>0.0</td>\n",
       "      <td>0.0</td>\n",
       "      <td>0.0</td>\n",
       "      <td>0.0</td>\n",
       "      <td>0.0</td>\n",
       "      <td>0.0</td>\n",
       "      <td>32.950453</td>\n",
       "      <td>25.309132</td>\n",
       "      <td>27.453121</td>\n",
       "      <td>35.064055</td>\n",
       "      <td>24.183070</td>\n",
       "      <td>8.027742</td>\n",
       "      <td>27.389643</td>\n",
       "      <td>24.728297</td>\n",
       "      <td>30.263065</td>\n",
       "      <td>28.775903</td>\n",
       "    </tr>\n",
       "  </tbody>\n",
       "</table>\n",
       "</div>"
      ],
      "text/plain": [
       "      movieID  rtAllCriticsRating  rtAllCriticsNumReviews  \\\n",
       "1762     2692                 7.7                    78.0   \n",
       "3805     5816                 7.1                   199.0   \n",
       "\n",
       "      rtAllCriticsNumFresh  rtAllCriticsNumRotten  rtAllCriticsScore  \\\n",
       "1762                  72.0                    6.0               92.0   \n",
       "3805                 164.0                   35.0               82.0   \n",
       "\n",
       "      rtTopCriticsRating  rtTopCriticsNumReviews  rtTopCriticsNumFresh  \\\n",
       "1762                 7.5                    20.0                  19.0   \n",
       "3805                 6.6                    39.0                  27.0   \n",
       "\n",
       "      rtTopCriticsNumRotten  rtTopCriticsScore  rtAudienceRating  \\\n",
       "1762                    1.0               95.0               3.8   \n",
       "3805                   12.0               69.0               3.6   \n",
       "\n",
       "      rtAudienceNumRatings  rtAudienceScore  year  director_nmf_vector_0  \\\n",
       "1762               33702.0             88.0  1998               0.000010   \n",
       "3805              176055.0             80.0  2002              30.281519   \n",
       "\n",
       "      director_nmf_vector_1  director_nmf_vector_2  director_nmf_vector_3  \\\n",
       "1762                0.00001               0.000010              28.134755   \n",
       "3805                0.00001              62.722349              50.177272   \n",
       "\n",
       "      director_nmf_vector_4  director_nmf_vector_5  director_nmf_vector_6  \\\n",
       "1762               3.840950                0.00001              69.329070   \n",
       "3805               0.000013                0.00001               8.065088   \n",
       "\n",
       "      director_nmf_vector_7  director_nmf_vector_8  director_nmf_vector_9  \\\n",
       "1762               0.000010              17.673165              44.574312   \n",
       "3805              36.329022               0.000010               0.000010   \n",
       "\n",
       "      genre_Action  genre_Adventure  genre_Animation  genre_Children  \\\n",
       "1762           1.0              0.0              0.0             0.0   \n",
       "3805           0.0              1.0              0.0             1.0   \n",
       "\n",
       "      genre_Comedy  genre_Crime  genre_Documentary  genre_Drama  \\\n",
       "1762           0.0          1.0                0.0          0.0   \n",
       "3805           0.0          0.0                0.0          0.0   \n",
       "\n",
       "      genre_Fantasy  genre_Film-Noir  genre_Horror  genre_IMAX  genre_Musical  \\\n",
       "1762            0.0              0.0           0.0         0.0            0.0   \n",
       "3805            1.0              0.0           0.0         0.0            0.0   \n",
       "\n",
       "      genre_Mystery  genre_Romance  genre_Sci-Fi  genre_Short  genre_Thriller  \\\n",
       "1762            0.0            1.0           0.0          0.0             0.0   \n",
       "3805            0.0            0.0           0.0          0.0             0.0   \n",
       "\n",
       "      genre_War  genre_Western  tags_nmf_vector_0  tags_nmf_vector_1  \\\n",
       "1762        0.0            0.0          30.200149          25.427175   \n",
       "3805        0.0            0.0          32.950453          25.309132   \n",
       "\n",
       "      tags_nmf_vector_2  tags_nmf_vector_3  tags_nmf_vector_4  \\\n",
       "1762          28.832238          28.203452          23.671873   \n",
       "3805          27.453121          35.064055          24.183070   \n",
       "\n",
       "      tags_nmf_vector_5  tags_nmf_vector_6  tags_nmf_vector_7  \\\n",
       "1762          31.820233          28.669453          26.421250   \n",
       "3805           8.027742          27.389643          24.728297   \n",
       "\n",
       "      tags_nmf_vector_8  tags_nmf_vector_9  \n",
       "1762          25.212758          24.860105  \n",
       "3805          30.263065          28.775903  "
      ]
     },
     "execution_count": 45,
     "metadata": {},
     "output_type": "execute_result"
    }
   ],
   "source": [
    "subset_of_movie_ids = [5816.0,2692.0]\n",
    "\n",
    "All_data[All_data[\"movieID\"].isin(subset_of_movie_ids)].head()\n",
    "\n",
    "#movie_clusters_w_title[movie_clusters_w_title[\"Unnamed 0\"] == 12 ].head(10)"
   ]
  },
  {
   "cell_type": "code",
   "execution_count": null,
   "metadata": {
    "collapsed": true
   },
   "outputs": [],
   "source": []
  }
 ],
 "metadata": {
  "kernelspec": {
   "display_name": "Python 2",
   "language": "python",
   "name": "python2"
  },
  "language_info": {
   "codemirror_mode": {
    "name": "ipython",
    "version": 2
   },
   "file_extension": ".py",
   "mimetype": "text/x-python",
   "name": "python",
   "nbconvert_exporter": "python",
   "pygments_lexer": "ipython2",
   "version": "2.7.11"
  }
 },
 "nbformat": 4,
 "nbformat_minor": 0
}
