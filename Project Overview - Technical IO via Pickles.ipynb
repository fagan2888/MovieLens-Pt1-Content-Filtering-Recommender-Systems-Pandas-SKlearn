{
 "cells": [
  {
   "cell_type": "code",
   "execution_count": 1,
   "metadata": {
    "collapsed": false
   },
   "outputs": [],
   "source": [
    "import sys\n",
    "sys.path.append(\"Code/\")"
   ]
  },
  {
   "cell_type": "code",
   "execution_count": 2,
   "metadata": {
    "collapsed": false
   },
   "outputs": [],
   "source": [
    "from project_functions import summerize_pickles"
   ]
  },
  {
   "cell_type": "code",
   "execution_count": 3,
   "metadata": {
    "collapsed": false
   },
   "outputs": [
    {
     "name": "stdout",
     "output_type": "stream",
     "text": [
      "00 - Download MovieLens data (ml-latest).ipynb\r\n",
      "01 - Import & Parse Movie Data.ipynb\r\n",
      "project_functions.py\r\n",
      "project_functions.pyc\r\n"
     ]
    }
   ],
   "source": [
    "!ls Code/"
   ]
  },
  {
   "cell_type": "markdown",
   "metadata": {},
   "source": [
    "# 00 - Download MovieLens data (ml-latest).ipynb"
   ]
  },
  {
   "cell_type": "code",
   "execution_count": 4,
   "metadata": {
    "collapsed": false
   },
   "outputs": [
    {
     "name": "stderr",
     "output_type": "stream",
     "text": [
      "//anaconda/lib/python2.7/site-packages/IPython/nbformat.py:13: ShimWarning: The `IPython.nbformat` package has been deprecated. You should import from nbformat instead.\n",
      "  \"You should import from nbformat instead.\", ShimWarning)\n",
      "//anaconda/lib/python2.7/site-packages/nbformat/current.py:19: UserWarning: nbformat.current is deprecated.\n",
      "\n",
      "- use nbformat for read/write/validate public API\n",
      "- use nbformat.vX directly to composing notebooks of a particular version\n",
      "\n",
      "  \"\"\")\n"
     ]
    },
    {
     "name": "stdout",
     "output_type": "stream",
     "text": [
      "[]\n",
      "\n",
      "[]\n"
     ]
    },
    {
     "name": "stderr",
     "output_type": "stream",
     "text": [
      "//anaconda/lib/python2.7/site-packages/nbformat/current.py:75: UserWarning: reads_json is deprecated, use reads\n",
      "  warnings.warn(\"reads_json is deprecated, use reads\")\n"
     ]
    }
   ],
   "source": [
    "filepath2 = \"Code/00 - Download MovieLens data (ml-latest).ipynb\"\n",
    "\n",
    "pickles_dict = summerize_pickles(filepath2)\n",
    "\n",
    "print pickles_dict[\"input_pickles\"]\n",
    "print\n",
    "print pickles_dict[\"output_pickles\"]"
   ]
  },
  {
   "cell_type": "markdown",
   "metadata": {},
   "source": [
    "# 01 - Import & Parse Movie Data.ipynb"
   ]
  },
  {
   "cell_type": "code",
   "execution_count": 9,
   "metadata": {
    "collapsed": false
   },
   "outputs": [
    {
     "name": "stdout",
     "output_type": "stream",
     "text": [
      "../Resources/Pickles/genre_feature_dummied.pickle\n",
      "../Resources/Pickles/directors_feature_dummied.pickle\n",
      "../Resources/Pickles/tags_feature_dummied.pickle\n",
      "../Resources/Pickles/actors_2_as_dummied.pickle\n",
      "------------------------------\n",
      "../Resources/Pickles/user_ratings.pickle\n",
      "../Resources/Pickles/actors_feature_as_dummied.pickle\n",
      "../Resources/Pickles/tags_feature_dim_reduced.pickle\n",
      "../Resources/Pickles/misc_movie_features.pickle\n",
      "../Resources/Pickles/actors_2_as_dummied.pickle\n",
      "../Resources/Pickles/directors_feature_dummied.pickle\n",
      "../Resources/Pickles/genre_feature_dummied.pickle\n",
      "thing_u.pickle\n",
      "../Resources/Pickles/actors_feature_dim_reduced.pickle\n",
      "../Resources/Pickles/genre_feature_dim_reduced.pickle\n",
      "actors_3_postNMF.pickle\n",
      "../Resources/Pickles/imdb_and_rt_ratings_feature.pickle\n",
      "actors_2_as_dummied.pickle\n",
      "../Resources/Pickles/lookup_table_movies.pickle\n",
      "../Resources/Pickles/directors_feature_dim_reduced.pickle\n",
      "../Resources/Pickles/tags_feature_dummied.pickle\n",
      "person_u.pickle\n",
      "actors_3_postNMF_components.pickle\n"
     ]
    }
   ],
   "source": [
    "filepath2 = \"Code/01 - Import & Parse Movie Data.ipynb\"\n",
    "\n",
    "pickles_dict = summerize_pickles(filepath2)\n",
    "\n",
    "for x in pickles_dict[\"input_pickles\"]:\n",
    "    print x\n",
    "print \"------------------------------\"\n",
    "\n",
    "for x in set(pickles_dict[\"output_pickles\"]):\n",
    "    print x"
   ]
  },
  {
   "cell_type": "code",
   "execution_count": null,
   "metadata": {
    "collapsed": true
   },
   "outputs": [],
   "source": []
  },
  {
   "cell_type": "code",
   "execution_count": null,
   "metadata": {
    "collapsed": true
   },
   "outputs": [],
   "source": []
  },
  {
   "cell_type": "code",
   "execution_count": null,
   "metadata": {
    "collapsed": true
   },
   "outputs": [],
   "source": []
  },
  {
   "cell_type": "code",
   "execution_count": null,
   "metadata": {
    "collapsed": true
   },
   "outputs": [],
   "source": []
  },
  {
   "cell_type": "code",
   "execution_count": null,
   "metadata": {
    "collapsed": true
   },
   "outputs": [],
   "source": []
  },
  {
   "cell_type": "code",
   "execution_count": null,
   "metadata": {
    "collapsed": true
   },
   "outputs": [],
   "source": []
  },
  {
   "cell_type": "code",
   "execution_count": null,
   "metadata": {
    "collapsed": true
   },
   "outputs": [],
   "source": []
  },
  {
   "cell_type": "code",
   "execution_count": null,
   "metadata": {
    "collapsed": true
   },
   "outputs": [],
   "source": []
  },
  {
   "cell_type": "code",
   "execution_count": null,
   "metadata": {
    "collapsed": true
   },
   "outputs": [],
   "source": []
  }
 ],
 "metadata": {
  "kernelspec": {
   "display_name": "Python 2",
   "language": "python",
   "name": "python2"
  },
  "language_info": {
   "codemirror_mode": {
    "name": "ipython",
    "version": 2
   },
   "file_extension": ".py",
   "mimetype": "text/x-python",
   "name": "python",
   "nbconvert_exporter": "python",
   "pygments_lexer": "ipython2",
   "version": "2.7.11"
  }
 },
 "nbformat": 4,
 "nbformat_minor": 0
}
