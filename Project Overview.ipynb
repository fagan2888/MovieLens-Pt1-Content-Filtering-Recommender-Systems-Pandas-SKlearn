{
 "cells": [
  {
   "cell_type": "markdown",
   "metadata": {},
   "source": [
    "# I. Datasets to use:"
   ]
  },
  {
   "cell_type": "markdown",
   "metadata": {},
   "source": [
    "### Movie Ratings & Movie Metadata\n",
    "\n",
    "**Movie Ratings Data derives from here: http://grouplens.org/datasets/movielens/**\n",
    "10M Set (Number of Users = 72,000 users, Number of Movies = 10,000, Number of Ratings = 10,000,000 )\n",
    "Maximum: 10M Set (Number of Users = 240,000 users, Number of Movies = 33,000, Number of Ratings = 10,000,000 )\n",
    "(Number of Users = , Number of Movies = , Number of Ratings = )\n",
    "\n",
    "**10M Set + IMBD/Rotten Tomatoes Data, which is actually used:**\n",
    "(Note 1: Number of Users = 2,113, Number of Movies = 10,197, Number of Ratings = 855,598 )\n",
    "(Note 2: From the original dataset, only those users with both rating and tagging information have been mantained.\n",
    "(Note 3: Also, I could have chosen a dataset with more users but then I'd need to do more work to scrape data from IMDB and Rotten Tomatoes. Going to see if it's good enough as is...Also, with more movies will come more videos to scrape and that will take up more time to process and memory to store.\n",
    "\n",
    "Idea: One area for advancement could be using the expanded list of users (240k), but over the still limited amount of movies(10,197)\n",
    "http://grouplens.org/datasets/hetrec-2011/\n",
    "\n",
    "Description of Augmented Dataset: http://ir.ii.uam.es/hetrec2011/datasets.html\n",
    "\n"
   ]
  },
  {
   "cell_type": "markdown",
   "metadata": {},
   "source": [
    "<hr style=\"height:1px;border:none;color:#333;background-color:#333;\" />"
   ]
  },
  {
   "cell_type": "markdown",
   "metadata": {},
   "source": [
    "# II. Project Structure\n",
    "\n",
    "## - A) Importing of Data\n",
    "- What do each of the things meanRun \n",
    "- How are they distributed?\n",
    "\n",
    "## - B) Understand the Dataset / Feature Engineering - Regular\n",
    "- Drop NA's\n",
    "- Run SVD on all the features which otherwise would require a ton of dummy variables:\n",
    "a) List of likely \"dummify\" features: director name, actors, tags, location\n",
    "b) NEW MATRIX: Create proper dummy matricies out of appropriate series - skikit learning dummy variable creater\n",
    "c) NEW MATRIX: General Outline is: MovieID vs. Dummy Variables\n",
    "d) Run SVD: - For reference: Scipy - SVD - http://maheshakya.github.io/gsoc/2014/05/18/preparing-a-bench-marking-data-set-using-singula-value-decomposition-on-movielens-data.html\n",
    "e) EXTRACT: Look at S / Sigma matrix to get the eigen values\n",
    "f) HUMAN INTERVENTION: looking at the matrix, see where the values in the diagonal spots cuts off. \n",
    "g) Run MNF\n",
    "\n",
    "## - C) Classification\n",
    "    \n",
    "\n",
    "## 1) Content-Filtering Recomender Systems (Pandas & SKlearn etc.)\n",
    "\n",
    "**Isolate different models and assess performance using train/test sets. For Example**\n",
    "a) Just Ratings, Just Directors, Just Actors, Just Genre, Just Location, Just Year, Just Plot\n",
    "\n",
    "b) Exotic: Just Movie Trailer Descriptions (Visual), Just Movie Trailer Visual Sentiment, Audio Sentiment\n",
    "\n",
    "c) Ratings + \n",
    "\n",
    "**Basic techniques for predicting ratings out of my features outside of KNN:**\n",
    "\n",
    "a) Decision Trees\n",
    "\n",
    "b) Random Forests\n",
    "\n",
    "c) Support Vector Machines SVM's\n",
    "\n",
    "d) Naive Bayes\n",
    "\n",
    "e) Ordered Probit\n",
    "\n",
    "f) Hierarchical Agglomerative Clustering\n",
    "\n",
    "## 2) Collaborative Filtering Recomender Systems (Graphlab)\n",
    "a) User-Item Recomendations\n",
    "\n",
    "b) Item-Item Recomendations\n",
    "\n",
    "#### Resources: \n",
    "- Good Overview Article on Recomender Systems: http://blogs.gartner.com/martin-kihn/how-to-build-a-recommender-system-in-python/\n",
    "\n",
    "- \"MovieLens.Several machine learning related algorithms – baseline predictor, KNN, Stochastic Gradient Descent, SVD, SVD++, asymmetric SVD, integrated model and NMTF are used to predict the rating from particular users for unrated movies. RMSE (Root-Mean-Square-Error) is applied as the main criteria to evaluate their performance.\"http://cs229.stanford.edu/proj2012/BaoXia-MovieRatingEstimationAndRecommendation_FinalWriteup.pdf"
   ]
  },
  {
   "cell_type": "code",
   "execution_count": null,
   "metadata": {
    "collapsed": true
   },
   "outputs": [],
   "source": []
  }
 ],
 "metadata": {
  "kernelspec": {
   "display_name": "Python 2",
   "language": "python",
   "name": "python2"
  },
  "language_info": {
   "codemirror_mode": {
    "name": "ipython",
    "version": 2
   },
   "file_extension": ".py",
   "mimetype": "text/x-python",
   "name": "python",
   "nbconvert_exporter": "python",
   "pygments_lexer": "ipython2",
   "version": "2.7.11"
  }
 },
 "nbformat": 4,
 "nbformat_minor": 0
}
